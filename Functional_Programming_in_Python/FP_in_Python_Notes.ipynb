{
 "cells": [
  {
   "cell_type": "markdown",
   "metadata": {},
   "source": [
    "# Functional Programming in Python\n",
    "\n",
    "## Preface\n",
    "\n",
    "### What is Functional Programming?\n",
    "\n",
    "Functional programming (FP) has at least several of the following characteristics:\n",
    "* Functions are first class (objects). Everything you can do with \"data\" can be done with functions themselves (such as passing a function to another function).\n",
    "* Recursion is used as a primary control structure. In some languages, no other \"loop\" construct exists.\n",
    "* There is a focus on list processing. Lists are often used with recursion on sublists as a substitute for loops.\n",
    "* \"Pure\" functional languages eschew side effects such as state (assigning first one, then another value to the same variable to track the program state).\n",
    "* FP either discourages or outright disallows statements, and instead works with the evaluation of expressions (functions plus arguments). In the purest sense, one program is one expression (plus supporting definitions).\n",
    "* FP worries about *what* is to be computed rather than *how* it is to be computed.\n",
    "* Much functional programming utilizes \"higher order\" functions (in other words, functions that operate on functions that operate on functions).\n",
    "Python *is* a multiparadigm language that makes FP easy to do when desired, and easy to mix with other programming styles even though Python is **not** a *pure* FP language.\n",
    "\n",
    "## (Avoiding) Flow Control\n",
    "Problems arise with those side effects that come with state variables and mutable data structures; they often model concepts of the physical world of containers fairly well but it is difficult to reason about state at a given point in a program.\n",
    "One solution is to focus on describing \"what\" the data collection consists of. One shoud think when first given new data, \"Here's some data, what do I need to do with it?\"\n",
    "\n",
    "### Encapsulation\n",
    "Refactor code to put the data construction in a more isolated place i.e. in a function or method."
   ]
  },
  {
   "cell_type": "raw",
   "metadata": {},
   "source": [
    "####################\n",
    "# Imperative Code\n",
    "# Please note that this pseudo code\n",
    "####################\n",
    "\n",
    "# Configure the data to start with\n",
    "collection = get_initial_state()\n",
    "state_var = None\n",
    "for datum in data_set:\n",
    "    if condition(state_var):\n",
    "        state_var = calculate_from(datum)\n",
    "        new = modify(datum, state_var)\n",
    "        collection.add_to(new)\n",
    "    else:\n",
    "        new = modify_differently(datum)\n",
    "        collection.add_to(new)\n",
    "        \n",
    "# Now actually work with the data\n",
    "for thing in collection:\n",
    "    process(thing)"
   ]
  },
  {
   "cell_type": "markdown",
   "metadata": {},
   "source": [
    "We may want to tuck away the \"how\" of the data construction from the current scope with the goal to abstract out the how of the function entirely."
   ]
  },
  {
   "cell_type": "raw",
   "metadata": {},
   "source": [
    "# Tuck away construction of data\n",
    "def make_collection(data_set):\n",
    "    collection = get_initial_state()\n",
    "    state_var = None\n",
    "    for datum in date_set:\n",
    "        if condition(state_var):\n",
    "            state_var = calculate_from(datum, state_var)\n",
    "            new = modify(datum, state_var)\n",
    "            collection.add_to(new)\n",
    "        else:\n",
    "            new = modify_differently(datum)\n",
    "            collection.add_to(new)\n",
    "    return collection\n",
    "    \n",
    "# Now actually work with the data\n",
    "for thing in make_collections(data_set):\n",
    "   process(thing) "
   ]
  },
  {
   "cell_type": "markdown",
   "metadata": {},
   "source": [
    "The programming logic hasn't changed, nor even the lines of code but we have shifted the focus from \"How do we construct collection?\" to \"What does make_collection() create?\"\n",
    "\n",
    "### Comprehensions\n",
    "Comprehensions is a way to make code more compact and to shift our focus from the \"how\" to the \"what.\""
   ]
  },
  {
   "cell_type": "raw",
   "metadata": {},
   "source": [
    "####################\n",
    "# Original Code\n",
    "####################\n",
    "\n",
    "collection = list()\n",
    "for datum in data_set:\n",
    "    if condition(datum):\n",
    "        collection.append(datum)\n",
    "    else:\n",
    "        new = modify(datum)\n",
    "        collection.append(new)\n",
    "        \n",
    "####################\n",
    "# Alternatively\n",
    "####################\n",
    "\n",
    "collection = [d if condition(d) else modify(d)\n",
    "                for d in data_set]"
   ]
  },
  {
   "cell_type": "markdown",
   "metadata": {},
   "source": [
    "List comprehensions avoid needing to think about or debug state within a loop. While you can nest comprehensions to arbitrary depth, past a fairly simple level they tend to stop clarifying and start obscuring. For genuinely complex construction of a data collection, refactoring into functions remains more readable.\n",
    "\n",
    "### Generators\n",
    "Generator comprehensions have the same syntax as list comprehensions. Generator comprehensions are merely a description of \"how to get the data\" that is not realized until .next() is called upon the object or by looping over it. Generators save memory for large sequences by defering computation until it is actually needed."
   ]
  },
  {
   "cell_type": "raw",
   "metadata": {},
   "source": [
    "log_lines = (line for line in read_line(huge_log_file)\n",
    "                    if complex_condition(line))"
   ]
  },
  {
   "cell_type": "markdown",
   "metadata": {},
   "source": [
    "The behavior is similar to the creation of a list but runtime behavior is nicer."
   ]
  },
  {
   "cell_type": "raw",
   "metadata": {},
   "source": [
    "####################\n",
    "# Imperative Version\n",
    "####################\n",
    "\n",
    "def get_log_lines(log_file):\n",
    "    line = read_line(log_line)\n",
    "    while True:\n",
    "        try:\n",
    "            if complex_condition(line):\n",
    "                yield line\n",
    "            line = read_line(log_file)\n",
    "        except StopIteration:\n",
    "            raise\n",
    "            \n",
    "log_lines = get_log_lines(huge_log_file)"
   ]
  },
  {
   "cell_type": "markdown",
   "metadata": {},
   "source": [
    "While the imperative version could be simplified, this version is meant to illustrate the \"how\" of a for loop over an iterable. These are the types of details we are looking to abstract away from the \"what\" of programming.\n",
    "\n",
    "Similarly, this example could be handled using a class with .\\_\\_next\\_\\_() and .\\_\\_iter\\_\\_() methods."
   ]
  },
  {
   "cell_type": "raw",
   "metadata": {},
   "source": [
    "class GetLogLines(object):\n",
    "    def __init__(self, log_file):\n",
    "        self.log_file = log_file\n",
    "        self.line = None\n",
    "    def__iter__(self):\n",
    "        return self\n",
    "    def__next__(self):\n",
    "        if self.line is None:\n",
    "            self.line = read_line(log_file)\n",
    "        while not complex_condition(self.line):\n",
    "            self.line = read_line(self.log_file)\n",
    "        return self.line\n",
    "\n",
    "log_lines = GetLogLines(huge_log_file)"
   ]
  },
  {
   "cell_type": "markdown",
   "metadata": {},
   "source": [
    "Aside from the iterator protocol and lazy evaluation, one can see that the generator comprehension focuses attention much better on the \"what.\"\n",
    "\n",
    "### Dicts and Sets\n",
    "Just like lists can be created in comprehensions rather than initializing an empty list, looping, and repeatedly calling .append(), dictionaries and sets can be created \"all at once\" rather than repeatedly calling .update() or .add() in a loop."
   ]
  },
  {
   "cell_type": "code",
   "execution_count": 3,
   "metadata": {
    "collapsed": false
   },
   "outputs": [
    {
     "data": {
      "text/plain": [
       "{0: 'A', 1: 'B', 2: 'C', 3: 'D', 4: 'E', 5: 'F'}"
      ]
     },
     "execution_count": 3,
     "metadata": {},
     "output_type": "execute_result"
    }
   ],
   "source": [
    "####################\n",
    "# Dictionary and List Comprehension\n",
    "####################\n",
    "\n",
    "{i:chr(65+i) for i in range(6)}"
   ]
  },
  {
   "cell_type": "code",
   "execution_count": 5,
   "metadata": {
    "collapsed": false
   },
   "outputs": [
    {
     "data": {
      "text/plain": [
       "{'A', 'B', 'C', 'D', 'E', 'F'}"
      ]
     },
     "execution_count": 5,
     "metadata": {},
     "output_type": "execute_result"
    }
   ],
   "source": [
    "{chr(65+i) for i in range(6)}"
   ]
  },
  {
   "cell_type": "markdown",
   "metadata": {},
   "source": [
    "### Recursion\n",
    "Recursion is often considered the \"meat and potatoes\" of FP and can be effective in getting at the \"what\" rather than \"how\" and avoid altering the state of any variables or data structures within an algorithm. However, recursion in Python must be seriously wagered before implementation because it is rather slow and is not considered \"Pythonic.\" We must be careful to make distinguishes between the cases where recursion is just \"iteration by another name\" and those where a problem can readily be partitioned into smaller problems.\n",
    "\n",
    "Here is one example where Pythonic recursion is just a kind of iteration:"
   ]
  },
  {
   "cell_type": "code",
   "execution_count": 9,
   "metadata": {
    "collapsed": false
   },
   "outputs": [],
   "source": [
    "def running_sum(numbers, start=0):\n",
    "    if len(numbers) == 0:\n",
    "        print()\n",
    "        return\n",
    "    total = numbers[0] + start\n",
    "    print(total)\n",
    "    running_sum(numbers[1:], total)"
   ]
  },
  {
   "cell_type": "code",
   "execution_count": 11,
   "metadata": {
    "collapsed": true
   },
   "outputs": [],
   "source": [
    "####################\n",
    "# More examples\n",
    "####################\n",
    "\n",
    "def factiorialR(N):\n",
    "    \"Recursive factorial function\"\n",
    "    assert isinstance(N, int) and N >= 1\n",
    "    return 1 if N <= 1 else N * factorialR(N-1)\n",
    "\n",
    "def factorialI(N):\n",
    "    \"Iterative factorial function\"\n",
    "    assert isinstance(N, int) and N >= 1\n",
    "    product = 1\n",
    "    while N >= 1:\n",
    "        product *= N\n",
    "        N -= 1\n",
    "    return product"
   ]
  },
  {
   "cell_type": "markdown",
   "metadata": {},
   "source": [
    "The recursive function easily expresses much more simply the \"what\" than the \"how\" of the algorithm. The details of repeatedly changing the values of product and N in the iterative version feels like it is just bookkeeping, not the nature of the computation itself. Where recursion is compelling, and sometimes even the only really obvious way to express a solution, is when a problem offers itself to a \"divide and conquer\" approach. In that case, the recursion depth is only O(logN) of the size of the collection, which is unlikely to be overly deep.\n",
    "In general, it is good practice to look for possibilities of recursive expression - and especially for versions that avoid the need for state variables or mutable data collections - whenever a problem looks partitionable into smaller problems. Do not use recursion in Python merely for \"iteration by other means.\"\n",
    "\n",
    "### Eliminating Loops\n",
    "In Python, most of the time it is a bad idea to eliminate loops, both for readability and performance. If we simply call a function inside a for loop, built-in higher order function map() can take away the \"how\" of the processing."
   ]
  },
  {
   "cell_type": "raw",
   "metadata": {},
   "source": [
    "for e in it:\n",
    "    func(e)\n",
    "    \n",
    "# Alternative, map()-based \"loop\"\n",
    "map(func, it)"
   ]
  },
  {
   "cell_type": "markdown",
   "metadata": {},
   "source": [
    "A similar technique is available for a functional approach to sequential program flow. Most imperative programming consists of statements. However, we can wrap step-by-step procedures which we can then pass to map which will handle the flow for us."
   ]
  },
  {
   "cell_type": "raw",
   "metadata": {},
   "source": [
    "# let f1, f2, f3, ... be functions that perform actions\n",
    "# an execution utility function\n",
    "do_it = lambda f, *args: f(*args)\n",
    "\n",
    "# map()-based action sequence\n",
    "map(do_it, [f1, f2, f3])\n",
    "\n",
    "# Use list comprehension to map multiple functions to list(s)\n",
    "do_all_funcs = lambda fns, *args: [list(map(fn, *args)) for fn in fns]"
   ]
  },
  {
   "cell_type": "markdown",
   "metadata": {},
   "source": [
    "In theory, our whole main program coulde be a map() expression with an iterable of functions to execute."
   ]
  }
 ],
 "metadata": {
  "kernelspec": {
   "display_name": "Python 2",
   "language": "python",
   "name": "python2"
  },
  "language_info": {
   "codemirror_mode": {
    "name": "ipython",
    "version": 2
   },
   "file_extension": ".py",
   "mimetype": "text/x-python",
   "name": "python",
   "nbconvert_exporter": "python",
   "pygments_lexer": "ipython2",
   "version": "2.7.10"
  }
 },
 "nbformat": 4,
 "nbformat_minor": 0
}
