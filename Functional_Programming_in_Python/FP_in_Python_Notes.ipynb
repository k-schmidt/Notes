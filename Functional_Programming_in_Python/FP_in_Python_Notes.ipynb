{
 "cells": [
  {
   "cell_type": "markdown",
   "metadata": {},
   "source": [
    "# Functional Programming in Python\n",
    "\n",
    "## Preface\n",
    "\n",
    "### What is Functional Programming?\n",
    "\n",
    "Functional programming (FP) has at least several of the following characteristics:\n",
    "* Functions are first class (objects). Everything you can do with \"data\" can be done with functions themselves (such as passing a function to another function).\n",
    "* Recursion is used as a primary control structure. In some languages, no other \"loop\" construct exists.\n",
    "* There is a focus on list processing. Lists are often used with recursion on sublists as a substitute for loops.\n",
    "* \"Pure\" functional languages eschew side effects such as state (assigning first one, then another value to the same variable to track the program state).\n",
    "* FP either discourages or outright disallows statements, and instead works with the evaluation of expressions (functions plus arguments). In the purest sense, one program is one expression (plus supporting definitions).\n",
    "* FP worries about *what* is to be computed rather than *how* it is to be computed.\n",
    "* Much functional programming utilizes \"higher order\" functions (in other words, functions that operate on functions that operate on functions).\n",
    "Python *is* a multiparadigm language that makes FP easy to do when desired, and easy to mix with other programming styles even though Python is **not** a *pure* FP language.\n",
    "\n",
    "## (Avoiding) Flow Control\n",
    "\n"
   ]
  }
 ],
 "metadata": {
  "kernelspec": {
   "display_name": "Python 2",
   "language": "python",
   "name": "python2"
  },
  "language_info": {
   "codemirror_mode": {
    "name": "ipython",
    "version": 2
   },
   "file_extension": ".py",
   "mimetype": "text/x-python",
   "name": "python",
   "nbconvert_exporter": "python",
   "pygments_lexer": "ipython2",
   "version": "2.7.10"
  }
 },
 "nbformat": 4,
 "nbformat_minor": 0
}
