{
 "cells": [
  {
   "cell_type": "markdown",
   "metadata": {},
   "source": [
    "# Sets and functions\n",
    "\n",
    "### Sets\n",
    "##### Definition 1.1\n",
    "*A **set** is a well-defined collection of objects. The objects in the set are called **elements** or **members** of the set.*\n",
    "If $x$ is a member of the set $X$, then we write $x  \\in  X$.\n",
    "\n",
    "##### Examples 1.2\n",
    "* The set containing the numbers 1, 2, 3, 4, and 5 is written {1, 2, 3, 4, 5}. The number 3 is an element of the set, i.e. $3 \\in $ {1, 2, 3, 4, 5}, but $6 \\notin $ {1, 2, 3, 4, 5}. Also, the order of a set does not matter.\n",
    "* The set {dog, cat, mouse} is a set with three elements: dog, cat, mouse.\n",
    "* The set {1, 5, 12, {dog, cat}, {5, 72}} is the set containing the numbers 1, 5, 12, and the sets {dog, cat} and {5, 72}. Sets can contain sets as members.\n",
    "\n",
    "Note that {5} and 5 are not the same. {5} is an element of a set while 5 *is* a set.\n",
    "\n",
    "##### Examples 1.3\n",
    "* The set $X = $ {1, 2, dog, {3, 4}, mouse} has five elements. We can write $1 \\in X$, and {3, 4} $\\in X$ but note that $3 \\notin X$ and $4 \\notin X$. The numbers 3 and 4 are not members of the set $X$ by themselves.\n",
    "\n",
    "### Some interesting sets of numbers\n",
    "##### Natural Numbers\n",
    "The set of **natural numbers** is {1, 2, 3, 4,...} and is denoted by $ \\mathbb {N} $. Natural numbers are referred to as the counting numbers.\n",
    "\n",
    "##### Integers\n",
    "The set of **integers** is {..., -4, -3, -2, -1, 0, 1, 2, 3, 4, ...} and is denoted by $\\mathbb {Z} $. The $\\mathbb Z$ symbol comes from the German word Zahlen, which means numbers. **Non-negative integers**, are respectively defined and denoted as {0, 1, 2, 3, 4, ...} and $\\mathbb Z^+$.\n",
    "* All natural numbers are integers.\n",
    "\n",
    "##### Rational Numbers\n",
    "The set of **rational numbers** is denoted by $\\mathbb Q$ and consists of all fractional numbers, i.e. $x \\in \\mathbb Q$ if $x$ can be written in the form $p/q$ where $p$ and $q$ are integers with $q \\ne 0$. Note that the representation is not unique since 80/5 = 16/1.\n",
    "* All integers are also rational numbers since we can write $x \\in \\mathbb Z$ as $x/1$.\n",
    "\n",
    "##### Real Numbers\n",
    "The **real numbers**, denoted by $\\mathbb R$, are hard to define rigorously. For now, real numbers are numbers that can be given a decimal representation (including infinitely long representations) or as being represented as a point on an infinitely long number line.\n",
    "* The real numbers include all rational numbers (hence integers, hence natural numbers). Also, $\\pi$ and $e$ are real numbers but not rational numbers.\n",
    "* The set of real numbers that are not rational are called **irrational numbers**.\n",
    "\n",
    "##### Complex Numbers\n",
    "**Complex Numbers**, denoted $\\mathbb C$, are created by pretending that the square root of -1 exists."
   ]
  }
 ],
 "metadata": {
  "kernelspec": {
   "display_name": "Python 2",
   "language": "python",
   "name": "python2"
  },
  "language_info": {
   "codemirror_mode": {
    "name": "ipython",
    "version": 2
   },
   "file_extension": ".py",
   "mimetype": "text/x-python",
   "name": "python",
   "nbconvert_exporter": "python",
   "pygments_lexer": "ipython2",
   "version": "2.7.10"
  }
 },
 "nbformat": 4,
 "nbformat_minor": 0
}
